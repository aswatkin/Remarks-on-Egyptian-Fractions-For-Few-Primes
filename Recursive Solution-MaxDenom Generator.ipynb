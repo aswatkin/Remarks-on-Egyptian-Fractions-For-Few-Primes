{
  "cells": [
    {
      "cell_type": "code",
      "execution_count": 82,
      "id": "332da627-5a76-4aee-bac3-44e98d44bb3b",
      "metadata": {},
      "outputs": [],
      "source": "#IMPLEMENTATION OF ALGORITHMS 4.1 AND 4.4 \n\nfrom fractions import Fraction\n\n#set the two primes and the rank that you want to use \np = 2\nq = 13\nrank = 7\n\nhighest_power = 20\n# define solutions library\nlist_of_solutions = []\n\n#HELPER FUNCTIONS \n\n# sum_list(denom_list) --- sums the reciprocals of a list of numbers\n# Input: denom_list, a list of integers\n# Output: running_frac, a fraction containing the sum of the reciprocals of the entries in denom_list\n\ndef sum_list(denom_list):\n    \n    running_frac = 0\n    for denom in denom_list:\n        running_frac += 1/denom\n    \n    return running_frac\n    \n# get_possible_denoms(p,q) - generating a list of p^iq^j in increasing order\n# Input: p, q, two prime numbes\n#        highest_power, a limit for i and j\n# Output: possible_denoms, a list of p^iq^j for i,j <= highest_power. \n\ndef get_possible_denoms(p,q, highest_power):\n    \n    possible_denoms = []\n    \n    for i in range(0, highest_power):\n    \n        for j in range(0, highest_power):\n        \n            if i + j > 0:\n                possible_denoms.append(p**i * q **j)\n            \n    possible_denoms.sort()\n\n    return possible_denoms\n\n#print(possible_denoms)"
    },
    {
      "cell_type": "code",
      "execution_count": 79,
      "id": "efc1df0f-7e33-4996-a800-12f85d3a1424",
      "metadata": {},
      "outputs": [],
      "source": "# FUNCTIONS THAT IMPLEMENT ALGORITHMS\n\n# get_proposed_bound(prime_1, prime_2, rank, highest_power) - implements the greedy algorithm for conjecturing a maximal denominator.\n# Input: prime_1, prime_2, two primes (integers) appearing in solutions\n#        rank, the rank (integer) at which to find solutions\n#        highest_power, an integer used for a call to get_possible_denoms()\n\n# Output: an integer giving the greedy algorithm result. \n\ndef get_proposed_bound(prime_1, prime_2, rank, highest_power):\n    possible_denoms = get_possible_denoms(prime_1, prime_2, highest_power)\n    \n    partial_solution = []\n    total_sum = 0 \n    for denominator in possible_denoms:\n        if total_sum + 1/denominator < 1 and len(partial_solution) < rank - 1:\n            new_sum = total_sum + 1/denominator\n            total_sum += 1/denominator\n            partial_solution.append(denominator)\n\n\n    left_over = 1 - total_sum\n    simplified_left_over = 1 / left_over\n    proposed_bounds = 0\n\n    counter = 0\n    while possible_denoms[counter] < simplified_left_over:\n        counter += 1\n\n    return possible_denoms[counter]\n# we need to have an outside function to sum a list of numbers \n\n\n    "
    },
    {
      "cell_type": "code",
      "execution_count": 80,
      "id": "c16a91a8-1565-49b0-ae99-ec36a6757cef",
      "metadata": {},
      "outputs": [],
      "source": "# main recursive function\n# get_solutions(running_sol, possible_denoms) - implements the recursive algorithm found in section \\ref{subsection: recursive algorithm}.\n# Input: running_sol, a list with a partial solution to the Egyptian fraction problem. \n#        possible_denoms, the denominators to consider for this solution. \n# Output: None, this function populates a global variable containing a list of solutions. \n\n\ndef get_solutions(running_sol, possible_denoms):\n    \n    running_sum = sum_list(running_sol)\n    \n    #BASE CASE BLOCK\n    \n    #BC 1 - we've gone over 1 somehow\n    if running_sum > 1: \n        return None\n    #BC 2 - once the sum is 1, we should stop\n    elif running_sum == 1:\n        # if we have enough \n        if len(running_sol) == rank:\n            list_of_solutions.append(running_sol[ : ]) # make a deep copy\n            return None\n        else:\n            \n            return None\n    elif len(running_sol) >= rank:\n       \n        return None\n    else: #this should be all lists that are shorter than rank and sum to less than 1\n        \n        #find the right data for iteration\n       \n        m_n_frac = 1 - running_sum\n        m = m_n_frac.numerator()\n        n = m_n_frac.denominator()\n        s = len(running_sol)\n        \n        # get the index of where we're currently at in the list\n        if len(running_sol) >= 1: \n            index = possible_denoms.index(running_sol[-1])\n        else:\n            index = 0\n        \n        # calculate the biggest possible denominator\n        biggest_denom = (n * (rank - s))/m\n        \n        # using a while loop instead of just iterating over all possible denominators eliminates a bunch of sequences\n        # that will never sum to 1\n        while possible_denoms[index] <= biggest_denom:\n            \n            running_sol.append(possible_denoms[index])\n            \n            #recursive call\n            get_solutions(running_sol, possible_denoms)\n            \n            running_sol.pop()\n            index += 1\n              \n#get_solutions([])\n"
    },
    {
      "cell_type": "code",
      "execution_count": 81,
      "id": "9e976dd6-7ccd-46ef-8d54-6a07fae8e949",
      "metadata": {},
      "outputs": [
        {
          "name": "stdout",
          "output_type": "stream",
          "text": "There are 22 solutions\nThe maximum denominator that appears is:  832 which is 2^6 13^1\nWARNING: this does not agree with the greedy bound 676\n"
        }
      ],
      "source": "#MAIN CODE - gets solutions and prints info for p,q and rank\n\n#BLOCK 1 - find all solutions and greedy bound\npossible_denoms = get_possible_denoms(p,q, highest_power)\n\ngreedy_bound = get_proposed_bound(p,q,rank, highest_power)\n\n# This line ensures that we are not storing solutions from previous times running this code.\nlist_of_solutions.clear()\n\nget_solutions([], possible_denoms)\n\n# BLOCK 2 - find and describe maximum denominator as p^iq^j\nmax_denominator = 0\n\nfor solution in list_of_solutions:\n    for denominator_test in solution:\n        if denominator_test > max_denominator:\n            max_denominator = denominator_test\n\n\nto_factor = max_denominator\nexp_p = 0\n\nwhile (to_factor/p).is_integer():\n    to_factor = to_factor/p\n    exp_p += 1\n    \nexp_q = 0\n\nwhile (to_factor/q).is_integer():\n    to_factor = to_factor/q\n    exp_q += 1\n\n\n#BLOCK 3 - display info about solutions\n\n#UN-COMMENT THE FOLLOWING TWO LINES TO PRINT ALL SOLUTIONS\n#for solution in list_of_solutions: \n  #print(solution)\n  \nprint(\"There are\", len(list_of_solutions), \"solutions\")\n\nprint(\"The maximum denominator that appears is: \", max_denominator, \"which is\", str(p)+\"^\"+str(exp_p), str(q)+\"^\"+str(exp_q))\nif max_denominator <= greedy_bound:\n    print(\"This is within the greedy algorithm bound\", greedy_bound)\nelse:\n    print(\"WARNING: this does not agree with the greedy bound\", greedy_bound)"
    }
  ],
  "metadata": {
    "kernelspec": {
      "display_name": "SageMath 10.6",
      "language": "sage",
      "name": "sagemath-10.6"
    },
    "language_info": {
      "codemirror_mode": {
        "name": "ipython",
        "version": 3
      },
      "file_extension": ".py",
      "mimetype": "text/x-python",
      "name": "python",
      "nbconvert_exporter": "python",
      "pygments_lexer": "ipython3",
      "version": "3.12.5"
    }
  },
  "nbformat": 4,
  "nbformat_minor": 5
}
