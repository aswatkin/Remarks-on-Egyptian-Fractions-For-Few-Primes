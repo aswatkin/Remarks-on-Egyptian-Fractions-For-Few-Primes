{
 "cells": [
  {
   "cell_type": "markdown",
   "id": "2453073e",
   "metadata": {},
   "source": [
    "### This notebook is for finding a bound in the case where our category is of prime rank (Note: this notebook uses Julia as its kernel)"
   ]
  },
  {
   "cell_type": "markdown",
   "id": "87cb9cfe",
   "metadata": {},
   "source": [
    "Below is an edited version of Emily's code for the implementation of Algorithm 4.1 in Rowell-Bruillard paper"
   ]
  },
  {
   "cell_type": "code",
   "execution_count": 1,
   "id": "5672dfcd",
   "metadata": {},
   "outputs": [],
   "source": [
    "# first 9 terms of sylvesters sequence\n",
    "Sylvester_seq = [1, 2, 3, 7, 43, 1807, 3263443, 10650056950807, 113423713055421844361000443] "
   ]
  },
  {
   "cell_type": "markdown",
   "id": "358f08ce",
   "metadata": {},
   "source": [
    "The cell below creates a library of potential solutions"
   ]
  },
  {
   "cell_type": "code",
   "execution_count": 2,
   "id": "2ac46865",
   "metadata": {},
   "outputs": [],
   "source": [
    "#Follows algorithm 4.1 in http://arxiv.org/abs/1012.0814v2\n",
    "\n",
    "def generate_S_lib(rank_of_C, bounding_sequence):\n",
    "    #step 1 - generate the set S_2\n",
    "    n = rank_of_C\n",
    "    u_seq = bounding_sequence\n",
    "    S_2 = []\n",
    "\n",
    "    for j in range(2, n+1):\n",
    "        upp = math.sqrt(u_seq[n-1]/j) #upper bound on i where pairs in S_2 are (j, j*i^2)\n",
    "        for i in range(1, math.floor(upp) + 1):\n",
    "            S_2.append((j, j * i * i))\n",
    "\n",
    "    S_library = {}\n",
    "    S_library[2] = list(S_2)\n",
    "    #step 2 - generate the set S_k+1 for k <= n-2 \n",
    "    for k in range(3, n+1):\n",
    "\n",
    "        S_library[k] = []\n",
    "        # condition a\n",
    "        for j_list in S_library[k-1]:\n",
    "            partial = sum([(1/x_i) for x_i in j_list])\n",
    "            #condition b\n",
    "            bound_1 = max(j_list[-2], k)\n",
    "            bound_2 = min(j_list[-1], u_seq[k - 1]*(n - k + 1))\n",
    "            for J in range(bound_1, bound_2+1):\n",
    "\n",
    "                #condition c and d\n",
    "                if math.floor(math.sqrt(j_list[-1]/J)) == math.sqrt(j_list[-1]/J) and (1/J) + partial <= 1:\n",
    "\n",
    "                    temp = j_list[-1]\n",
    "                    newlist = list(j_list)\n",
    "                    newlist.remove(newlist[-1])\n",
    "                    newlist.append(J)\n",
    "                    newlist.append(temp)\n",
    "                    S_library[k].append(newlist)\n",
    "                    \n",
    "    return S_library"
   ]
  },
  {
   "cell_type": "markdown",
   "id": "1b0f9f9a",
   "metadata": {},
   "source": [
    "This cell returns the lists of solutions x_i in a library that fit the requirement that they sum to 1"
   ]
  },
  {
   "cell_type": "code",
   "execution_count": 3,
   "id": "d1b036c9",
   "metadata": {},
   "outputs": [],
   "source": [
    "def find_x_i(rank_of_C, Sylvester_sequence): \n",
    "    n = rank_of_C\n",
    "    u_seq = Sylvester_sequence\n",
    "    S_library = generate_S_lib(n, u_seq)\n",
    "    solutions = []               \n",
    "    for possible_sol in S_library[n]:\n",
    "        if 1 - sum([(1/x_i) for x_i in possible_sol]) <= 1/u_seq[n-1]: \n",
    "            #this should fix any rounding error weirdness\n",
    "            solutions.append(list(possible_sol))\n",
    "\n",
    "    return solutions"
   ]
  },
  {
   "cell_type": "markdown",
   "id": "89b2ebfd",
   "metadata": {},
   "source": [
    "### The cell below contains code for the case of categories with prime rank\n",
    "\n",
    "\n",
    "is_solution takes in a list and determines whether the list is a valid solution, can be completed to a valid solution, or cannot be completed to a valid solution\n",
    "\n",
    "find_solutions returns a list of possible x_1, x_2,...,x_n-1\n",
    "\n",
    "find_possible_dim_C returns the list of the dimensions of C corresponding to the solutions found by \"find_solutions\"\n",
    "\n",
    "find_max_power returns the same list as in find_possible_dim_C but takes the values log base p"
   ]
  },
  {
   "cell_type": "code",
   "execution_count": 4,
   "id": "8e7edde1",
   "metadata": {},
   "outputs": [
    {
     "name": "stdout",
     "output_type": "stream",
     "text": [
      "[[3, 3, 9, 9, 27, 27, 81, 81, 243, 243, 243], [3, 3, 9, 9, 27, 27, 81, 243, 243, 243, 81], [3, 3, 9, 9, 27, 81, 81, 81, 81, 81, 81], [3, 3, 9, 9, 27, 81, 81, 243, 243, 243, 27], [3, 3, 9, 9, 81, 81, 81, 81, 81, 81, 27], [3, 3, 9, 27, 27, 27, 27, 27, 81, 81, 81], [3, 3, 9, 27, 27, 27, 27, 81, 81, 81, 27], [3, 3, 9, 27, 27, 81, 81, 243, 243, 243, 9], [3, 3, 9, 27, 81, 81, 81, 81, 81, 81, 9], [3, 3, 27, 27, 27, 27, 27, 27, 27, 27, 27], [3, 3, 27, 27, 27, 27, 27, 81, 81, 81, 9], [3, 9, 9, 9, 9, 9, 27, 27, 81, 81, 81], [3, 9, 9, 9, 9, 9, 27, 81, 81, 81, 27], [3, 9, 9, 9, 9, 27, 27, 27, 27, 27, 27], [3, 9, 9, 9, 9, 27, 27, 81, 81, 81, 9], [3, 9, 9, 9, 27, 27, 27, 27, 27, 27, 9], [3, 9, 9, 27, 27, 81, 81, 243, 243, 243, 3], [3, 9, 9, 27, 81, 81, 81, 81, 81, 81, 3], [3, 9, 27, 27, 27, 27, 27, 81, 81, 81, 3], [3, 27, 27, 27, 27, 27, 27, 27, 27, 27, 3], [9, 9, 9, 9, 9, 9, 9, 9, 27, 27, 27], [9, 9, 9, 9, 9, 9, 9, 27, 27, 27, 9], [9, 9, 9, 9, 9, 27, 27, 81, 81, 81, 3], [9, 9, 9, 9, 27, 27, 27, 27, 27, 27, 3]]\n"
     ]
    }
   ],
   "source": [
    "from sage.functions.log import logb\n",
    "\n",
    "# set prime factors in question\n",
    "p = 3\n",
    "MAX_LENGTH = 10\n",
    "# Note that MAX_LENGTH:= rank - 1\n",
    "TERMINAL_POWER = 5\n",
    "\n",
    "possible_denoms = []\n",
    "\n",
    "for i in range(0,TERMINAL_POWER + 1):\n",
    "    possible_denoms.append(p^i)\n",
    "        \n",
    "possible_denoms.sort()\n",
    "possible_denoms.remove(1)\n",
    "\n",
    "nice_sums = [(n-1)/n for n in possible_denoms]\n",
    "\n",
    "from enum import Enum\n",
    "Status = Enum('Solution_Status', ['INVALID', 'VALID', 'INCOMPLETE'])\n",
    "\n",
    "\n",
    "def is_solution(candidate_sol):\n",
    "    if len(candidate_sol) > MAX_LENGTH: \n",
    "        return Status.INVALID\n",
    "    elif sum([(1/x_i) for x_i in candidate_sol]) > 1:\n",
    "        return Status.INVALID\n",
    "    # condition to return true (need to add to solutions list)\n",
    "    elif len(candidate_sol) == MAX_LENGTH and sum([(1/x_i) for x_i in candidate_sol]) in nice_sums:\n",
    "        return Status.VALID\n",
    "    else:\n",
    "        return Status.INCOMPLETE\n",
    "\n",
    "def __find_solutions_loop(partial_sol, solutions_list):\n",
    "    match is_solution(partial_sol):\n",
    "        case Status.INVALID:\n",
    "            return\n",
    "        case Status.VALID:\n",
    "            solutions_list.append(list(partial_sol))\n",
    "        case Status.INCOMPLETE:\n",
    "            # loop through denominators, check if its bigger (or equal)\n",
    "            for i in possible_denoms: \n",
    "            \n",
    "                if len(partial_sol) == 0 or i >= partial_sol[-1]:\n",
    "                    #add to list, recursively call function\n",
    "                    partial_sol.append(i)\n",
    "                    __find_solutions_loop(partial_sol, solutions_list)\n",
    "                \n",
    "                    #remove from list\n",
    "                    partial_sol.remove(i)\n",
    "\n",
    "    return solutions_list\n",
    "\n",
    "def find_solutions(init_partial_sol = []):\n",
    "    return __find_solutions_loop(init_partial_sol, [])\n",
    "                    \n",
    "\n",
    "\n",
    "#print(solutions)\n",
    "\n",
    "\n",
    "\n",
    "def find_possible_dim_C():\n",
    "    denoms = []\n",
    "    for solution in find_solutions([]):\n",
    "        x = 0 \n",
    "        for i in solution:\n",
    "            x=x+1/i\n",
    "        denoms.append(x.denominator())\n",
    "    return denoms\n",
    "\n",
    "def find_max_power(prime):\n",
    "    denoms = []\n",
    "    for solution in find_solutions([]):\n",
    "        x = 0 \n",
    "        for i in solution:\n",
    "            x=x+1/i\n",
    "        denoms.append(logb(x.denominator(), prime))\n",
    "        \n",
    "    denoms.sort()\n",
    "    return denoms\n",
    "        \n",
    "\n",
    "full_solutions= find_solutions()\n",
    "    \n",
    "\n",
    "for sol in full_solutions:\n",
    "    s = 0\n",
    "    for i in sol:\n",
    "        s += 1/i\n",
    "    sol.append(s.denominator())\n",
    "    \n"
   ]
  },
  {
   "cell_type": "markdown",
   "id": "ff88d196",
   "metadata": {},
   "source": [
    "The code in the cell below counts the number of distinct solutions given a fixed prime p and rank R."
   ]
  },
  {
   "cell_type": "code",
   "execution_count": 14,
   "id": "84900c65",
   "metadata": {},
   "outputs": [
    {
     "name": "stdout",
     "output_type": "stream",
     "text": [
      "[{3: 2, 9: 2, 27: 2, 81: 2, 243: 3}, {3: 2, 9: 2, 27: 1, 81: 6}, {3: 2, 9: 1, 27: 5, 81: 3}, {3: 2, 27: 9}, {3: 1, 9: 5, 27: 2, 81: 3}, {3: 1, 9: 4, 27: 6}, {9: 8, 27: 3}]\n",
      "7\n"
     ]
    }
   ],
   "source": [
    "solutions_dictionary =[]\n",
    "\n",
    "for solution in full_solutions:\n",
    "    \n",
    "    sol_dict = {}\n",
    "    \n",
    "    for i in solution:\n",
    "        \n",
    "        if i in sol_dict.keys():\n",
    "            sol_dict[i] += 1\n",
    "        else:\n",
    "            sol_dict[i] = 1\n",
    "\n",
    "    solutions_dictionary.append(sol_dict)\n",
    "    \n",
    "\n",
    "\n",
    "dup_free = [solutions_dictionary[0]]\n",
    "\n",
    "for i in range(len(solutions_dictionary)):\n",
    "        unique = True\n",
    "        for item in dup_free:\n",
    "            \n",
    "            if solutions_dictionary[i] == item:\n",
    "                \n",
    "                unique = False\n",
    "        if unique:\n",
    "            \n",
    "            dup_free.append(solutions_dictionary[i])\n",
    "            \n",
    "print(dup_free)\n",
    "print(len(dup_free))"
   ]
  },
  {
   "cell_type": "code",
   "execution_count": null,
   "id": "26da971b",
   "metadata": {},
   "outputs": [],
   "source": []
  }
 ],
 "metadata": {
  "kernelspec": {
   "display_name": "SageMath 9.7",
   "language": "sage",
   "name": "sagemath-9.7"
  },
  "language_info": {
   "codemirror_mode": {
    "name": "ipython",
    "version": 3
   },
   "file_extension": ".py",
   "mimetype": "text/x-python",
   "name": "python",
   "nbconvert_exporter": "python",
   "pygments_lexer": "ipython3",
   "version": "3.10.5"
  }
 },
 "nbformat": 4,
 "nbformat_minor": 5
}
